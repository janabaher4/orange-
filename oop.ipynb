{
  "nbformat": 4,
  "nbformat_minor": 0,
  "metadata": {
    "colab": {
      "provenance": []
    },
    "kernelspec": {
      "name": "python3",
      "display_name": "Python 3"
    },
    "language_info": {
      "name": "python"
    }
  },
  "cells": [
    {
      "cell_type": "code",
      "execution_count": 2,
      "metadata": {
        "colab": {
          "base_uri": "https://localhost:8080/"
        },
        "id": "iKRsEdf4Tg0t",
        "outputId": "ccfc5d33-c658-4cdc-ff84-bc84984e8d08"
      },
      "outputs": [
        {
          "output_type": "stream",
          "name": "stdout",
          "text": [
            "wisky the animal is eating.\n",
            "wisky the animal is sleeping.\n",
            "wisky the dog is barking.\n",
            "rita the animal is eating.\n",
            "rita the animal is sleeping.\n",
            "rita the cat is meowing.\n"
          ]
        }
      ],
      "source": [
        "\n",
        "class Animal:\n",
        "    def __init__(self, name):\n",
        "        self.name = name\n",
        "\n",
        "    def eat(self):\n",
        "        print(f\"{self.name} the animal is eating.\")\n",
        "\n",
        "    def sleep(self):\n",
        "        print(f\"{self.name} the animal is sleeping.\")\n",
        "\n",
        "\n",
        "class Dog(Animal):\n",
        "    def bark(self):\n",
        "        print(f\"{self.name} the dog is barking.\")\n",
        "\n",
        "\n",
        "class Cat(Animal):\n",
        "    def meow(self):\n",
        "        print(f\"{self.name} the cat is meowing.\")\n",
        "\n",
        "\n",
        "\n",
        "dog = Dog(\"wisky\")\n",
        "cat = Cat(\"rita\")\n",
        "\n",
        "\n",
        "dog.eat()\n",
        "dog.sleep()\n",
        "dog.bark()\n",
        "\n",
        "cat.eat()\n",
        "cat.sleep()\n",
        "cat.meow()"
      ]
    }
  ]
}